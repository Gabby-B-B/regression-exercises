{
 "cells": [
  {
   "cell_type": "code",
   "execution_count": null,
   "metadata": {},
   "outputs": [],
   "source": [
    "import pandas as pd\n",
    "import numpy as np\n",
    "import os\n",
    "from env import host, user, password\n",
    "\n",
    "#################### Acquire Mall Customers Data ##################\n",
    "def get_connection(db, user=user, host=host, password=password):\n",
    "    '''\n",
    "    This function uses my info from my env file to\n",
    "    create a connection url to access the Codeup db.\n",
    "    '''\n",
    "    return f'mysql+pymysql://{user}:{password}@{host}/{db}'\n",
    "##########################Acquire Telco Data#########################\n",
    "def new_telco_data():\n",
    "    '''\n",
    "    This function reads the telco data from the Codeup db into a df,\n",
    "    writes it to a csv file, and returns the df.\n",
    "    '''\n",
    "    sql_query = \"\"\"\n",
    "    \n",
    "SELECT *\n",
    "from customers\n",
    "RIGHT JOIN contract_types ON contract_types.contract_type_id=customers.contract_type_id;\n",
    "    \n",
    "                \"\"\"\n",
    "    df = pd.read_sql(sql_query, get_connection('telco_churn'))\n",
    "    df.to_csv('telco.csv')\n",
    "    return df\n",
    "def get_telco_data(cached=False):\n",
    "    '''\n",
    "This function reads telco data from the Codeup databased in cached == False or if cached == True reads in iris df from a csv file, returns df'''\n",
    "    if cached or os.path.isfile('telco.csv') == False:\n",
    "        df = new_telco_data()\n",
    "    else:\n",
    "        df = pd.read_csv('telco.csv', index_col=0)\n",
    "    return df"
   ]
  }
 ],
 "metadata": {
  "kernelspec": {
   "display_name": "Python 3",
   "language": "python",
   "name": "python3"
  },
  "language_info": {
   "codemirror_mode": {
    "name": "ipython",
    "version": 3
   },
   "file_extension": ".py",
   "mimetype": "text/x-python",
   "name": "python",
   "nbconvert_exporter": "python",
   "pygments_lexer": "ipython3",
   "version": "3.7.6"
  }
 },
 "nbformat": 4,
 "nbformat_minor": 4
}
